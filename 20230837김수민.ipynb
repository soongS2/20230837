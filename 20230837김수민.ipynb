{
  "nbformat": 4,
  "nbformat_minor": 0,
  "metadata": {
    "colab": {
      "provenance": []
    },
    "kernelspec": {
      "name": "python3",
      "display_name": "Python 3"
    },
    "language_info": {
      "name": "python"
    }
  },
  "cells": [
    {
      "cell_type": "markdown",
      "source": [
        "#1. LeetCode 225"
      ],
      "metadata": {
        "id": "0oeCDSNTg22P"
      }
    },
    {
      "cell_type": "code",
      "execution_count": null,
      "metadata": {
        "id": "NGAfdQ1zgy9w"
      },
      "outputs": [],
      "source": [
        "from collections import deque\n",
        "\n",
        "class MyStack:\n",
        "\n",
        "    def __init__(self):\n",
        "        self.q1 = deque()\n",
        "        self.q2 = deque()\n",
        "\n",
        "\n",
        "    def push(self, x: int) -> None:\n",
        "        self.q1.append(x)\n",
        "\n",
        "\n",
        "    def pop(self) -> int:\n",
        "        while len(self.q1) > 1:\n",
        "            self.q2.append(self.q1.popleft())\n",
        "        val = self.q1.popleft()\n",
        "        self.q1, self.q2 = self.q2, self.q1\n",
        "        return val\n",
        "\n",
        "\n",
        "    def top(self) -> int:\n",
        "        while len(self.q1) > 1:\n",
        "            self.q2.append(self.q1.popleft())\n",
        "        val = self.q1.popleft()\n",
        "        self.q2.append(val)\n",
        "        self.q1, self.q2 = self.q2, self.q1\n",
        "        return val\n",
        "\n",
        "\n",
        "    def empty(self) -> bool:\n",
        "        return not self.q1"
      ]
    },
    {
      "cell_type": "markdown",
      "source": [
        "#2. LeetCode 232"
      ],
      "metadata": {
        "id": "6fJk-reXhRAt"
      }
    },
    {
      "cell_type": "code",
      "source": [
        "class MyQueue:\n",
        "\n",
        "    def __init__(self):\n",
        "        self.in_stack = []\n",
        "        self.out_stack = []\n",
        "\n",
        "\n",
        "    def push(self, x: int) -> None:\n",
        "        self.in_stack.append(x)\n",
        "\n",
        "\n",
        "    def pop(self) -> int:\n",
        "        if not self.in_stack:\n",
        "            while self.in_stack:\n",
        "                self.out_stack.append(self.in_atck.pop())\n",
        "        return self.out_stack.pop()\n",
        "\n",
        "\n",
        "    def peek(self) -> int:\n",
        "        if not self.out_stack:\n",
        "            while self.in_stack:\n",
        "                self.out_stack.append(self.in_stack.pop())\n",
        "        return self.out_stack[-1]\n",
        "\n",
        "\n",
        "    def empty(self) -> bool:\n",
        "        return not self.in_stack and not self.out_stack"
      ],
      "metadata": {
        "id": "0JIGgxwQhURN"
      },
      "execution_count": null,
      "outputs": []
    },
    {
      "cell_type": "markdown",
      "source": [
        "#3. Chapter 7"
      ],
      "metadata": {
        "id": "Sxjc8rW-jG6H"
      }
    },
    {
      "cell_type": "markdown",
      "source": [
        "###01"
      ],
      "metadata": {
        "id": "2oz3MGygjMOe"
      }
    },
    {
      "cell_type": "code",
      "source": [
        "class ListQueue:\n",
        "\tdef __init__(self):\n",
        "    \tself.__queue = []\n",
        "\n",
        "    def enqueue(self, item):\n",
        "    \tself.__queue.insert(0, item)\n",
        "\n",
        "    def dequeue(self):\n",
        "    \treturn self.__queue.pop()\n",
        "\n",
        "    def front(self):\n",
        "    \tif self.__queue.is_empty():\n",
        "        \treturn None\n",
        "        else:\n",
        "        \treturn self.__queue[len(self.__queue) - 1]\n",
        "\n",
        "    def is_empty(self) -> bool:\n",
        "    \treturn not bool(self.__queue)\n",
        "\n",
        "    def dequeue_all(self):\n",
        "    \tself.__queue.clear()\n"
      ],
      "metadata": {
        "id": "RqYOSWbKjLam"
      },
      "execution_count": null,
      "outputs": []
    },
    {
      "cell_type": "markdown",
      "source": [
        "파이썬 리스트의 insert(0, item)과 pop() 이용함."
      ],
      "metadata": {
        "id": "_Azg--C9pqZj"
      }
    },
    {
      "cell_type": "markdown",
      "source": [
        "###02"
      ],
      "metadata": {
        "id": "j5VbytLomBQ0"
      }
    },
    {
      "cell_type": "code",
      "source": [
        "def is_in_set(string: String) -> bool:\n",
        "\tq = ListQueue()\n",
        "    index = 0\n",
        "    while string[index] != '$':\n",
        "    \tq.enqueue(string[index])\n",
        "        index += 1\n",
        "    index += 1\n",
        "    while index < len(string):\n",
        "    \tif q.dequeue() != string[index]:\n",
        "        \treturn False\n",
        "        else:\n",
        "        \tindex += 1\n",
        "    return True\n"
      ],
      "metadata": {
        "id": "NeAz-57_mDue"
      },
      "execution_count": null,
      "outputs": []
    },
    {
      "cell_type": "markdown",
      "source": [
        "$ 전까지 큐에 저장, 이후 하나씩 꺼내 비교함."
      ],
      "metadata": {
        "id": "29opV5d7qD7c"
      }
    },
    {
      "cell_type": "markdown",
      "source": [
        "###03"
      ],
      "metadata": {
        "id": "_oCePkf8ma2P"
      }
    },
    {
      "cell_type": "code",
      "source": [
        "def copy_linked_queue(a: LinkedQueue, b: LinkedQueue):\n",
        "\tb.dequeue_all()\n",
        "    temp_queue = LinkedQueue()\n",
        "    while not a.is_empty():\n",
        "    \ttemp_queue.enqueue(a.dequeue())\n",
        "    while not temp_queue.is_empty():\n",
        "    \ta.enqueue(temp_queue.front())\n",
        "        b.enqueue(temp_queue.dequeue())"
      ],
      "metadata": {
        "id": "AyQLn4KHmcQe"
      },
      "execution_count": null,
      "outputs": []
    },
    {
      "cell_type": "markdown",
      "source": [
        " A의 내용을 temp 큐로 이동했다가, 다시 A와 B에 동일하게 복사함."
      ],
      "metadata": {
        "id": "6yWR96iWqKC2"
      }
    },
    {
      "cell_type": "markdown",
      "source": [
        "###04"
      ],
      "metadata": {
        "id": "unhghWJ2mg6k"
      }
    },
    {
      "cell_type": "code",
      "source": [
        "def push(q1: LinkedQueue, q2: LinkedQueue, item):\n",
        "\tq2.dequeue_all()\n",
        "\twhile not q1.is_empty():\n",
        "    \tq2.enqueue(q1.dequeue())\n",
        "    q1.enqueue(item)\n",
        "    while not q2.is_empty():\n",
        "    \tq1.enqueue(q2.dequeue())\n",
        "\n",
        "def pop(q1: LinkedQueue, q2: LinkedQueue):\n",
        "\tq2.dequeue_all()\n",
        "    count = 0\n",
        "\twhile not q1.is_empty():\n",
        "    \tq2.enqueue(q1.dequeue())\n",
        "        count += 1\n",
        "    while _ in range(count - 1):\n",
        "    \tq1.enqueue(q2.dequeue())\n",
        "    return q2.dequeue()"
      ],
      "metadata": {
        "id": "QoU79Zewmgkt"
      },
      "execution_count": null,
      "outputs": []
    },
    {
      "cell_type": "markdown",
      "source": [
        "push() 시 새 큐에 삽입 후 기존 큐 내용 옮기기. pop() 시 큐에서 맨 앞 꺼냄."
      ],
      "metadata": {
        "id": "rqBQDLzeucmV"
      }
    },
    {
      "cell_type": "markdown",
      "source": [
        "###05"
      ],
      "metadata": {
        "id": "9qXFziKfmkjB"
      }
    },
    {
      "cell_type": "code",
      "source": [
        "def enqueue(s1: LinkedStack, s2: LinkedStack, item):\n",
        "\ts2.pop_all()\n",
        "    while not s1.is_empty():\n",
        "    \ts2.push(s1.pop())\n",
        "    s1.push(item)\n",
        "    while not s2.is_empty():\n",
        "    \ts1.push(s2.pop())\n",
        "\n",
        "def dequeue(s1: LinkedStack, s2: LinkedStack):\n",
        "\ts2.pop_all()\n",
        "    while not s1.is_empty():\n",
        "    \ts2.push(s1.pop())\n",
        "    ret_item = s2.pop()\n",
        "    while not s2.is_empty():\n",
        "    \ts1.push(s2.pop())\n",
        "    return ret_item"
      ],
      "metadata": {
        "id": "NtNRz89rmlgT"
      },
      "execution_count": null,
      "outputs": []
    },
    {
      "cell_type": "markdown",
      "source": [
        "enqueue() 시 역순으로 옮기고 다시 복구. dequeue() 시 순서를 반대로 해서 앞 요소 제거함."
      ],
      "metadata": {
        "id": "BXpNWuawuge2"
      }
    },
    {
      "cell_type": "markdown",
      "source": [
        "###06"
      ],
      "metadata": {
        "id": "fUKLJ5GHmotZ"
      }
    },
    {
      "cell_type": "markdown",
      "source": [
        "구현하고자 하는 Deque는 단방향원형리스트를 기반으로 한다.   \n",
        "또한, 이 Deque의 front는 리스트의 맨 앞이며 tail은 리스트의 맨 끝으로 한다.   \n",
        "enqueue()의 수행시간은 Deque의 front에서 수행할 시 Θ(1), Deque의 tail에서 수행할 시 Θ(1)이다. 따라서 수행 위치에 상관없이 enqueue()의 수행 시간은 **Θ(1)**이다.   \n",
        "dequeue()의 수행시간은 Deque의 front에서 수행할 시 Θ(1), Deque의 tail에서 수행할 시 Θ(1)이다. 따라서 수행 위치에 상관없이 dequeue()의 수행 시간은 **Θ(1)**이다."
      ],
      "metadata": {
        "id": "uihAQOazms-a"
      }
    },
    {
      "cell_type": "markdown",
      "source": [
        "###07"
      ],
      "metadata": {
        "id": "d1LU7IGMnF96"
      }
    },
    {
      "cell_type": "markdown",
      "source": [
        "구현하고자 하는 Deque는 단방향리스트를 기반으로 한다.\n",
        "또한, 이 Deque의 front는 리스트의 맨 앞이며 tail은 리스트의 맨 끝으로 한다.   \n",
        "enqueue()의 수행시간은 Deque의 front에서 수행할 시 Θ(1), Deque의 tail에서 수행할 시 Θ(n)이다. 따라서 enqueue()의 수행 시간은 최악의 경우를 고려해. **Θ(n)**이다.   \n",
        "dequeue()의 수행시간은 Deque의 front에서 수행할 시 Θ(1), Deque의 tail에서 수행할 시 Θ(n)이다. 따라서 dequeue()의 수행 시간은 최악의 경우를 고려해. **Θ(n)**이다."
      ],
      "metadata": {
        "id": "2RPcJHnYnKnF"
      }
    },
    {
      "cell_type": "markdown",
      "source": [
        "###08"
      ],
      "metadata": {
        "id": "_IZdKyDTolcx"
      }
    },
    {
      "cell_type": "code",
      "source": [
        "class ListDeque:\n",
        "\tdef __init__(self):\n",
        "    \tself.__queue = []\n",
        "\n",
        "    def enqueue(self, item):\n",
        "    \tself.__queue.append(item)\n",
        "\n",
        "    def dequeue(self):\n",
        "    \treturn self.__queue.pop(0)\n",
        "\n",
        "    def push(self, item):\n",
        "    \tself.__queue.insert(0, item)\n",
        "\n",
        "    def pop(self):\n",
        "    \treturn self.__queue.pop(len(self.__queue) - 1)\n",
        "\n",
        "    def front(self):\n",
        "    \tif self.is_empty():\n",
        "        \treturn None\n",
        "        else:\n",
        "        \treturn self.__queue[0]\n",
        "\n",
        "    def rear(self):\n",
        "    \tif self.is_empty():\n",
        "        \treturn None\n",
        "    \telse:\n",
        "        \treturn self.__queue[len(self.__queue) - 1]\n",
        "\n",
        "    def is_empty(self):\n",
        "    \treturn not bool(self.__queue)\n",
        "\n",
        "    def deque_all(self):\n",
        "    \tself.__queue.clear()\n",
        "\n",
        "    def print_deque(self):\n",
        "    \tprint(\"Dequeue from front:\", end = ' ')\n",
        "        for index in range(len(self.__queue)):\n",
        "        \tprint(self.__queue[index], end = ' ')\n",
        "        print()"
      ],
      "metadata": {
        "id": "QPgUrnrXmpp9"
      },
      "execution_count": null,
      "outputs": []
    },
    {
      "cell_type": "markdown",
      "source": [
        "enqueue()/push()로 앞뒤 삽입, dequeue()/pop()으로 앞뒤 삭제, front()/rear()로 요소를 확인하는 코드로 구성됨."
      ],
      "metadata": {
        "id": "9juLWxl2ui90"
      }
    }
  ]
}